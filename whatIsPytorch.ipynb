{
 "metadata": {
  "language_info": {
   "codemirror_mode": {
    "name": "ipython",
    "version": 3
   },
   "file_extension": ".py",
   "mimetype": "text/x-python",
   "name": "python",
   "nbconvert_exporter": "python",
   "pygments_lexer": "ipython3",
   "version": "3.8.5-final"
  },
  "orig_nbformat": 2,
  "kernelspec": {
   "name": "python3",
   "display_name": "Python 3"
  }
 },
 "nbformat": 4,
 "nbformat_minor": 2,
 "cells": [
  {
   "cell_type": "code",
   "execution_count": 2,
   "metadata": {},
   "outputs": [
    {
     "output_type": "stream",
     "name": "stdout",
     "text": [
      "1.7.0+cpu\n"
     ]
    }
   ],
   "source": [
    "from __future__ import print_function \n",
    "import torch\n",
    "print(torch.__version__)"
   ]
  },
  {
   "cell_type": "code",
   "execution_count": 3,
   "metadata": {},
   "outputs": [
    {
     "output_type": "stream",
     "name": "stdout",
     "text": [
      "tensor([[ 8.8013e-16,  4.5876e-41,  3.3359e-17],\n        [ 4.5876e-41, -1.0028e+19,  4.5874e-41],\n        [-1.0029e+19,  4.5874e-41, -2.3980e+18],\n        [ 4.5874e-41, -2.3980e+18,  4.5874e-41],\n        [-9.9764e+18,  4.5874e-41, -9.9766e+18]])\n"
     ]
    }
   ],
   "source": [
    "# Construct a 5x3 matrix, uninitialized:\n",
    "x=torch.empty(5,3)\n",
    "print(x)"
   ]
  },
  {
   "cell_type": "code",
   "execution_count": 4,
   "metadata": {},
   "outputs": [
    {
     "output_type": "stream",
     "name": "stdout",
     "text": [
      "tensor([[0.1090, 0.5237, 0.3511],\n        [0.2002, 0.3076, 0.2184],\n        [0.1577, 0.3458, 0.9178],\n        [0.2581, 0.4871, 0.5142],\n        [0.5585, 0.0473, 0.4673]])\n"
     ]
    }
   ],
   "source": [
    "# Construct a randomly initialized matrix:\n",
    "x=torch.rand(5,3)\n",
    "print(x)"
   ]
  },
  {
   "cell_type": "code",
   "execution_count": 5,
   "metadata": {},
   "outputs": [
    {
     "output_type": "stream",
     "name": "stdout",
     "text": [
      "tensor([[0, 0, 0],\n        [0, 0, 0],\n        [0, 0, 0],\n        [0, 0, 0],\n        [0, 0, 0]])\n"
     ]
    }
   ],
   "source": [
    "# Construct a matrix filled zeros and of dtype long:\n",
    "x=torch.zeros(5,3, dtype=torch.long)\n",
    "print(x)"
   ]
  },
  {
   "cell_type": "code",
   "execution_count": 6,
   "metadata": {},
   "outputs": [
    {
     "output_type": "stream",
     "name": "stdout",
     "text": [
      "tensor([5.5000, 3.0000])\n"
     ]
    }
   ],
   "source": [
    "# Construct a tensor directly from data:\n",
    "x=torch.tensor([5.5,3])\n",
    "print(x)\n"
   ]
  },
  {
   "cell_type": "code",
   "execution_count": 8,
   "metadata": {},
   "outputs": [
    {
     "output_type": "stream",
     "name": "stdout",
     "text": [
      "tensor([[1., 1., 1.],\n        [1., 1., 1.],\n        [1., 1., 1.],\n        [1., 1., 1.],\n        [1., 1., 1.]], dtype=torch.float64)\ntensor([[ 1.7046, -0.1483,  0.0660],\n        [ 1.4111,  0.3282, -0.6226],\n        [ 0.6397,  0.4329, -0.4854],\n        [-0.3726, -2.8136, -0.4727],\n        [ 0.2640,  1.0244,  1.7295]])\n"
     ]
    }
   ],
   "source": [
    "# or create a tensor based on an existing tensor.These methods will reuse the properties of the input tensor, e.g. dtype, unless new values are provided by user\n",
    "\n",
    "x=x.new_ones(5,3, dtype=torch.double)   # new_*methods take in size \n",
    "print(x)\n",
    "\n",
    "x=torch.randn_like(x, dtype=torch.float) # override dtype\n",
    "print(x)                                 # result has the same size"
   ]
  },
  {
   "source": [
    "# Operations"
   ],
   "cell_type": "markdown",
   "metadata": {}
  },
  {
   "cell_type": "code",
   "execution_count": 12,
   "metadata": {},
   "outputs": [
    {
     "output_type": "stream",
     "name": "stdout",
     "text": [
      "tensor([[ 2.2391,  0.6326,  0.4429],\n        [ 1.7339,  0.4948, -0.2528],\n        [ 1.3361,  0.8221, -0.0496],\n        [ 0.3794, -2.2043, -0.4321],\n        [ 0.3957,  1.9901,  2.4795]])\n"
     ]
    }
   ],
   "source": [
    "# Addition: syntax 1 \n",
    "y=torch.rand(5,3)\n",
    "print(x+y)"
   ]
  },
  {
   "cell_type": "code",
   "execution_count": 13,
   "metadata": {},
   "outputs": [
    {
     "output_type": "stream",
     "name": "stdout",
     "text": [
      "tensor([[ 2.2391,  0.6326,  0.4429],\n        [ 1.7339,  0.4948, -0.2528],\n        [ 1.3361,  0.8221, -0.0496],\n        [ 0.3794, -2.2043, -0.4321],\n        [ 0.3957,  1.9901,  2.4795]])\n"
     ]
    }
   ],
   "source": [
    "# Addition: syntax 2\n",
    "print(torch.add(x,y))"
   ]
  },
  {
   "cell_type": "code",
   "execution_count": 14,
   "metadata": {},
   "outputs": [
    {
     "output_type": "stream",
     "name": "stdout",
     "text": [
      "tensor([[ 2.2391,  0.6326,  0.4429],\n        [ 1.7339,  0.4948, -0.2528],\n        [ 1.3361,  0.8221, -0.0496],\n        [ 0.3794, -2.2043, -0.4321],\n        [ 0.3957,  1.9901,  2.4795]])\n"
     ]
    }
   ],
   "source": [
    "# Addition: providing an output tensor as argument\n",
    "result=torch.empty(5,3)\n",
    "torch.add(x,y, out=result)\n",
    "print(result)"
   ]
  },
  {
   "cell_type": "code",
   "execution_count": 15,
   "metadata": {},
   "outputs": [
    {
     "output_type": "stream",
     "name": "stdout",
     "text": [
      "tensor([[ 2.2391,  0.6326,  0.4429],\n        [ 1.7339,  0.4948, -0.2528],\n        [ 1.3361,  0.8221, -0.0496],\n        [ 0.3794, -2.2043, -0.4321],\n        [ 0.3957,  1.9901,  2.4795]])\n"
     ]
    }
   ],
   "source": [
    "# Addition: in-place\n",
    "y.add_(x)\n",
    "print(y)"
   ]
  },
  {
   "cell_type": "code",
   "execution_count": 18,
   "metadata": {},
   "outputs": [
    {
     "output_type": "stream",
     "name": "stdout",
     "text": [
      "tensor([[-0.1483,  0.0660],\n        [ 0.3282, -0.6226],\n        [ 0.4329, -0.4854],\n        [-2.8136, -0.4727],\n        [ 1.0244,  1.7295]])\n"
     ]
    }
   ],
   "source": [
    "print(x[:,-2::])"
   ]
  },
  {
   "cell_type": "code",
   "execution_count": 21,
   "metadata": {},
   "outputs": [
    {
     "output_type": "stream",
     "name": "stdout",
     "text": [
      "torch.Size([4, 4]) torch.Size([16]) torch.Size([2, 8])\n"
     ]
    }
   ],
   "source": [
    "# Resizing: if you want to resize/reshape tensor, you can use torch.view\n",
    "\n",
    "x=torch.randn(4,4)\n",
    "y=x.view(16)\n",
    "z=x.view(-1,8) # the size -1 is inferred from other dimensions\n",
    "\n",
    "print(x.size(),y.size(),z.size())"
   ]
  },
  {
   "cell_type": "code",
   "execution_count": 22,
   "metadata": {},
   "outputs": [
    {
     "output_type": "stream",
     "name": "stdout",
     "text": [
      "tensor([-1.8917])\n-1.8917261362075806\n"
     ]
    }
   ],
   "source": [
    "# If you have a one element tensor,use .item() to get the value as a python number \n",
    "\n",
    "x=torch.randn(1)\n",
    "print(x)\n",
    "print(x.item())"
   ]
  },
  {
   "source": [
    "# Numpy Bridge"
   ],
   "cell_type": "markdown",
   "metadata": {}
  },
  {
   "cell_type": "code",
   "execution_count": 23,
   "metadata": {},
   "outputs": [
    {
     "output_type": "stream",
     "name": "stdout",
     "text": [
      "tensor([1., 1., 1., 1., 1.])\n"
     ]
    }
   ],
   "source": [
    "# Converting a Torch Tensor to a Numpy Array\n",
    "a=torch.ones(5)\n",
    "print(a)"
   ]
  },
  {
   "cell_type": "code",
   "execution_count": 24,
   "metadata": {},
   "outputs": [
    {
     "output_type": "stream",
     "name": "stdout",
     "text": [
      "[1. 1. 1. 1. 1.]\n"
     ]
    }
   ],
   "source": [
    "b=a.numpy()\n",
    "print(b)"
   ]
  },
  {
   "cell_type": "code",
   "execution_count": 26,
   "metadata": {},
   "outputs": [
    {
     "output_type": "stream",
     "name": "stdout",
     "text": [
      "tensor([2., 2., 2., 2., 2.])\n[2. 2. 2. 2. 2.]\n"
     ]
    }
   ],
   "source": [
    "# Hot wht numpy array changed in value\n",
    "a.add_(1)\n",
    "print(a)\n",
    "print(b)"
   ]
  },
  {
   "cell_type": "code",
   "execution_count": 27,
   "metadata": {},
   "outputs": [
    {
     "output_type": "stream",
     "name": "stdout",
     "text": [
      "[1. 1. 1. 1. 1.]\ntensor([1., 1., 1., 1., 1.], dtype=torch.float64)\n[2. 2. 2. 2. 2.]\ntensor([2., 2., 2., 2., 2.], dtype=torch.float64)\n"
     ]
    }
   ],
   "source": [
    "# Converting Numpy Array to Torch Tensor\n",
    "import numpy as np \n",
    "a=np.ones(5)\n",
    "b=torch.from_numpy(a)\n",
    "print(a)\n",
    "print(b)\n",
    "np.add(a,1,out=a)\n",
    "print(a)\n",
    "print(b)"
   ]
  },
  {
   "cell_type": "code",
   "execution_count": null,
   "metadata": {},
   "outputs": [],
   "source": []
  }
 ]
}